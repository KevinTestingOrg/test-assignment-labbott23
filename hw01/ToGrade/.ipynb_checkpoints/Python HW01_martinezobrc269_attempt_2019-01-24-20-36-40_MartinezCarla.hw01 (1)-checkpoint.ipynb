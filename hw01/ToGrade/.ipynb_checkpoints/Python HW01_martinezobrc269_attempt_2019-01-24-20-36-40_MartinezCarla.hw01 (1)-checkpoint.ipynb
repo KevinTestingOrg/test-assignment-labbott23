{
 "cells": [
  {
   "cell_type": "markdown",
   "metadata": {},
   "source": [
    "# Homework 1: Causality and Expressions\n",
    "\n",
    "Please complete this notebook by filling in the cells provided. When you’re done:\n",
    "\n",
    "1. Select `Run All` from the `Cell` menu to ensure that you have executed all cells.\n",
    "2. Rename your file to `LastnameFirstname_hw01` using the `File>Rename` from the `File` menu\n",
    "\n",
    "This assignment is due Thursday, January 24 at 11:59PM.  Directly sharing answers is not okay, but discussing problems with course staff or with other students is encouraged.\n",
    "\n",
    "Reading:\n",
    "- Textbook chapters [1](http://www.inferentialthinking.com/chapters/01/what-is-data-science.html), [2](http://www.inferentialthinking.com/chapters/02/causality-and-experiments.html), and [3](http://www.inferentialthinking.com/chapters/03/programming-in-python.html)"
   ]
  },
  {
   "cell_type": "markdown",
   "metadata": {},
   "source": [
    "##### Tests\n",
    "Automated tests are provided for many questions.  If a question has automated tests, there will be a runnable code cell after the question's answer cell.  Run your answer cell, then run the test cell to check your answer.  **Passing the automatic tests does not guarantee full credit on any question.** The tests are provided to help catch some common errors, but it is *your* responsibility to answer the questions correctly.\n",
    "\n",
    "Run the cell below to prepare the notebook and automated tests."
   ]
  },
  {
   "cell_type": "code",
   "execution_count": 1,
   "metadata": {},
   "outputs": [
    {
     "name": "stderr",
     "output_type": "stream",
     "text": [
      "WARNING  | guidance.py:102 | Failed to read .ok_guidance file. It may not exist\n"
     ]
    },
    {
     "name": "stdout",
     "output_type": "stream",
     "text": [
      "=====================================================================\n",
      "Assignment: Homework 1: Causality and Expressions\n",
      "OK, version v1.13.11\n",
      "=====================================================================\n",
      "\n"
     ]
    }
   ],
   "source": [
    "# Run this cell to set up the notebook, but please don't change it.\n",
    "from client.api.assignment import load_assignment\n",
    "tests = load_assignment('hw01.ok')"
   ]
  },
  {
   "cell_type": "markdown",
   "metadata": {},
   "source": [
    "## 1. Can We Say That?\n"
   ]
  },
  {
   "cell_type": "markdown",
   "metadata": {},
   "source": [
    "The Urban Institute in Washington D.C. reports that most adult welfare recipients are single mothers in their 20’s and 30’s with one or two children. Some take advantage of job training programs to improve their skills, and many of those are able to increase their job earnings and leave the welfare system.\n",
    "\n",
    "**Question 1.1:** Can we say from this study that participation in the job training programs causes increased job earnings and independence from welfare?  Explain why or why not?"
   ]
  },
  {
   "cell_type": "markdown",
   "metadata": {},
   "source": [
    "<font color='green'> *I do*\n",
    "<font color='red'> *not* </font>\n",
    "<font color='green'> *think that the participation in job training programs is a direct cause to increased job earnings and independance. This is because not only was there not a more specific target group with a great sample, but it was more generalized, which in turn leaves room for a greater chance of lurking variables.* </font>"
   ]
  },
  {
   "cell_type": "markdown",
   "metadata": {},
   "source": [
    "**Question 1.2:** After seeing the data, the Urban Institute randomly chooses two groups of mothers when they apply for welfare. One group is required to participate in a job training program, but this program is not offered to the other. At the end of the study, the mothers who participated in the job training program showed a higher increase in earnings than and larger percentage of individuals that left welfare than those that did not receive job training.\n",
    "\n",
    "Can we say from this study that participation in the job training program causes increased job earnings and independence from welfare?  Explain why or why not?"
   ]
  },
  {
   "cell_type": "markdown",
   "metadata": {},
   "source": [
    "<font color='green'> *I think that although this did establish association between the job training program and increased job earnings, it still does not account for lurking variables so it cannot prove that it is a direct cause of the job training program.* </font>"
   ]
  },
  {
   "cell_type": "markdown",
   "metadata": {},
   "source": [
    "## 2. Breaking Down Expressions\n"
   ]
  },
  {
   "cell_type": "markdown",
   "metadata": {},
   "source": [
    "The most important idea in Computer Science is that complicated, useful things can be built by putting together simple parts according to simple rules.  Python code is an important example of this principle.  Once you understand the basic rules, you can code with confidence.  These exercises are designed to give you some practice with those rules.\n",
    "\n",
    "First, a brief review of subexpressions.\n",
    "\n",
    "You can take any Python expression that has a value and combine it with other expressions.  For example, you can combine two number-valued expressions by putting a `+` between them to add their values together.  This forms a new, larger expression called a *compound expression*.  The expressions that were combined together are called *subexpressions*.\n",
    "\n",
    "You can tell if something is a subexpression by checking whether it would make sense to write it in a line by itself.  For example, in the expression `2 * 3`, `2` is a subexpression, but `2 *` isn't, because `2 *` isn't a valid expression.  (Try executing it!)"
   ]
  },
  {
   "cell_type": "markdown",
   "metadata": {},
   "source": [
    "**Question 2.1** List all the subexpressions of the following expression:\n",
    "\n",
    "    2 + 3\n",
    "    \n",
    "Put each subexpression on its own line in the next cell.\n",
    "\n",
    "*Hint:* There are two of them."
   ]
  },
  {
   "cell_type": "code",
   "execution_count": 19,
   "metadata": {},
   "outputs": [
    {
     "data": {
      "text/plain": [
       "3"
      ]
     },
     "execution_count": 19,
     "metadata": {},
     "output_type": "execute_result"
    }
   ],
   "source": [
    "2\n",
    "3"
   ]
  },
  {
   "cell_type": "markdown",
   "metadata": {},
   "source": [
    "**Question 2.2:** Consider the following expression:\n",
    "\n",
    "    (1 + 2) * ((3 / 4) ** 5)\n",
    "\n",
    "Here is a list of almost all the subexpressions of that expression.  One is missing.\n",
    "\n",
    "1. `1`\n",
    "2. `2`\n",
    "3. `3`\n",
    "4. `4`\n",
    "5. `5`\n",
    "6. `(1 + 2)`\n",
    "7. `((3 / 4) ** 5)`\n",
    "\n",
    "In the next cell, write the missing expression."
   ]
  },
  {
   "cell_type": "code",
   "execution_count": 20,
   "metadata": {},
   "outputs": [
    {
     "data": {
      "text/plain": [
       "0.75"
      ]
     },
     "execution_count": 20,
     "metadata": {},
     "output_type": "execute_result"
    }
   ],
   "source": [
    "(3 / 4)\n"
   ]
  },
  {
   "cell_type": "markdown",
   "metadata": {},
   "source": [
    "**Question 2.3:** List all the subexpressions of the following expression:\n",
    "\n",
    "    (((2**3) / 4) / 5) - 6\n",
    "\n",
    "Put each subexpression on its own line in the next cell."
   ]
  },
  {
   "cell_type": "code",
   "execution_count": 21,
   "metadata": {},
   "outputs": [
    {
     "data": {
      "text/plain": [
       "0.4"
      ]
     },
     "execution_count": 21,
     "metadata": {},
     "output_type": "execute_result"
    }
   ],
   "source": [
    "2\n",
    "3\n",
    "4\n",
    "5\n",
    "6\n",
    "2**3\n",
    "((2**3) / 4)\n",
    "((2**3) / 4) / 5"
   ]
  },
  {
   "cell_type": "markdown",
   "metadata": {},
   "source": [
    "## 3. Errors in Naming\n"
   ]
  },
  {
   "cell_type": "markdown",
   "metadata": {},
   "source": [
    "**Question 3.1:** When you run the following cell, Python will produce an slightly-cryptic error message.  Explain in the text cell below, in your own words, what's wrong with the code.  (Remember, double-click the cell to edit it, and then click the Run button when you're done.)"
   ]
  },
  {
   "cell_type": "code",
   "execution_count": 22,
   "metadata": {},
   "outputs": [
    {
     "ename": "SyntaxError",
     "evalue": "can't assign to literal (<ipython-input-22-4c8b769209ad>, line 1)",
     "output_type": "error",
     "traceback": [
      "\u001b[1;36m  File \u001b[1;32m\"<ipython-input-22-4c8b769209ad>\"\u001b[1;36m, line \u001b[1;32m1\u001b[0m\n\u001b[1;33m    4 = 2 + 2\u001b[0m\n\u001b[1;37m             ^\u001b[0m\n\u001b[1;31mSyntaxError\u001b[0m\u001b[1;31m:\u001b[0m can't assign to literal\n"
     ]
    }
   ],
   "source": [
    "4 = 2 + 2"
   ]
  },
  {
   "cell_type": "markdown",
   "metadata": {},
   "source": [
    "<font color='green'> *The variable on the left of the = sign cannot be a 'literal' which in this case means it cannot be a number.* </font>"
   ]
  },
  {
   "cell_type": "markdown",
   "metadata": {},
   "source": [
    "**Question 3.2** When you run the following cell, Python will produce an slightly-cryptic error message.  **Fix the error,** and then **explain below** in your own words what was wrong with the code."
   ]
  },
  {
   "cell_type": "code",
   "execution_count": 17,
   "metadata": {},
   "outputs": [],
   "source": [
    "two = 2\n",
    "four = two + two"
   ]
  },
  {
   "cell_type": "code",
   "execution_count": 18,
   "metadata": {},
   "outputs": [
    {
     "name": "stdout",
     "output_type": "stream",
     "text": [
      "~~~~~~~~~~~~~~~~~~~~~~~~~~~~~~~~~~~~~~~~~~~~~~~~~~~~~~~~~~~~~~~~~~~~~\n",
      "Running tests\n",
      "\n",
      "---------------------------------------------------------------------\n",
      "Test summary\n",
      "    Passed: 1\n",
      "    Failed: 0\n",
      "[ooooooooook] 100.0% passed\n",
      "\n"
     ]
    }
   ],
   "source": [
    "_ = tests.grade('q3_2')"
   ]
  },
  {
   "cell_type": "markdown",
   "metadata": {},
   "source": [
    "<font color='green'> *Whenever wanting to add, multiply, subtract etc. these functions are stored under math, and they are executed through their symbols such as + or -. Simply saying plus does not add the two variables, to the program plus is not assigned to any function or command, and that's why the syntax error pops up.* </font>"
   ]
  },
  {
   "cell_type": "markdown",
   "metadata": {},
   "source": [
    "## 4. Job Opportunity Education in Rural India\n"
   ]
  },
  {
   "cell_type": "markdown",
   "metadata": {},
   "source": [
    "A [study](http://www.nber.org/papers/w16021.pdf) at UCLA investigated factors that might result in greater attention to the health and education of girls in rural India. One such factor is information about job opportunities for women. The idea is that if people know that educated women can get good jobs, they might take more care of the health and education of girls in their families, as an investment in the girls’ future potential as earners.\n",
    "\n",
    "The study focused on 160 villages outside the capital of India, all with little access to information about call centers and similar organizations that offer job opportunities to women. In 80 of the villages chosen at random, recruiters visited the village, described the opportunities, recruited women who had some English language proficiency and experience with computers, and provided ongoing support free of charge for three years. In the other 80 villages, no recruiters visited and no other intervention was made.\n",
    "\n",
    "At the end of the study period, the researchers recorded data about the school attendance and health of the children in the villages."
   ]
  },
  {
   "cell_type": "markdown",
   "metadata": {},
   "source": [
    "**Question 4.1:** Did this analysis have a treatment group and a control group? If so, describe the two groups."
   ]
  },
  {
   "cell_type": "markdown",
   "metadata": {},
   "source": [
    "<font color='green'> *Yes, the analysis had a treatment and a control group. The control group was the one that had no recruiters or any intervention through the observational period, while the treatment group was given support for three years.*  </font>"
   ]
  },
  {
   "cell_type": "markdown",
   "metadata": {},
   "source": [
    "**Question 4.2:** Was this an observational study or a randomized comparative experiment?"
   ]
  },
  {
   "cell_type": "markdown",
   "metadata": {},
   "source": [
    "<font color='green'> *This was a randomized comparative experiment since it not only had the group that was being interfered with by the given variable and the other is a control group to compare changes, if any.* </font>"
   ]
  },
  {
   "cell_type": "markdown",
   "metadata": {},
   "source": [
    "**Question 4.3:** The study reported, “Girls aged 5-15 in villages that received the recruiting services were 3 to 5 percentage points more likely to be in school and experienced an increase in Body Mass Index, reflecting greater nutrition and/or medical care. However, there was no net gain in height. For boys, there was no change in any of these measures.” Why do you think the author points out the lack of change in the boys?"
   ]
  },
  {
   "cell_type": "markdown",
   "metadata": {},
   "source": [
    "<font color='green'> *I think the author mentioned the lack of change in the boys since the study was meant to see the change in women after the recruiting services, so it provides that extra information that it helps women specifically.* </font>"
   ]
  },
  {
   "cell_type": "markdown",
   "metadata": {},
   "source": [
    "## 5. Differences between Universities\n"
   ]
  },
  {
   "cell_type": "markdown",
   "metadata": {},
   "source": [
    "**Question 5.1:** Suppose you're choosing a university to attend, and you'd like to *quantify* how *dissimilar* any two universities are.  You rate each university you're considering on 3 traits, using a 0 to 10 scale for each trait:\n",
    "\n",
    "1. Cost to attend (0 for the cheapest)\n",
    "2. Graduation rate\n",
    "3. How cool its mascot is\n",
    "\n",
    "You decide that the dissimilarity between two universities is:\n",
    "\n",
    "* the maximum of\n",
    "* the absolute values of\n",
    "* the 3 differences in their trait values.\n",
    "\n",
    "Using this method, compute the dissimilarity between Stanford (whose traits are 8, 9, and 0, respectively) and Berkeley (whose traits are 7, 9, and 10, respectively).  Call your answer `dissimilarity`.  Use a single line of code to compute the answer.  Use Python to do all the steps, including arithmetic (like subtracting 8 from 7)."
   ]
  },
  {
   "cell_type": "code",
   "execution_count": 33,
   "metadata": {},
   "outputs": [
    {
     "data": {
      "text/plain": [
       "10"
      ]
     },
     "execution_count": 33,
     "metadata": {},
     "output_type": "execute_result"
    }
   ],
   "source": [
    "dissimilarity = max(abs(8-7),abs(9-9),abs(0-10))\n",
    "dissimilarity"
   ]
  },
  {
   "cell_type": "code",
   "execution_count": 28,
   "metadata": {},
   "outputs": [
    {
     "name": "stdout",
     "output_type": "stream",
     "text": [
      "~~~~~~~~~~~~~~~~~~~~~~~~~~~~~~~~~~~~~~~~~~~~~~~~~~~~~~~~~~~~~~~~~~~~~\n",
      "Running tests\n",
      "\n",
      "---------------------------------------------------------------------\n",
      "Test summary\n",
      "    Passed: 1\n",
      "    Failed: 0\n",
      "[ooooooooook] 100.0% passed\n",
      "\n"
     ]
    }
   ],
   "source": [
    "_ = tests.grade('q5_1')"
   ]
  },
  {
   "cell_type": "markdown",
   "metadata": {},
   "source": [
    "**Question 5.2:** Identify all the subexpressions in your answer to the previous question.  Write each on its own line.\n",
    "\n",
    "*Hint:* If your answer to the previous question was as straightforward as possible, there should be 12 subexpressions, not including the whole expression itself."
   ]
  },
  {
   "cell_type": "code",
   "execution_count": 34,
   "metadata": {},
   "outputs": [
    {
     "data": {
      "text/plain": [
       "10"
      ]
     },
     "execution_count": 34,
     "metadata": {},
     "output_type": "execute_result"
    }
   ],
   "source": [
    "8\n",
    "7\n",
    "9\n",
    "0\n",
    "10\n",
    "(8-7)\n",
    "(9-9)\n",
    "(0-10)\n",
    "abs(8-7)\n",
    "abs(9-9)\n",
    "abs(0-10)\n",
    "max(1,0,10)"
   ]
  },
  {
   "cell_type": "markdown",
   "metadata": {},
   "source": [
    "## 6. More Children Living at Home?\n"
   ]
  },
  {
   "cell_type": "markdown",
   "metadata": {},
   "source": [
    "A USA Today [article](http://usatoday30.usatoday.com/news/nation/2006-03-16-failure_x.htm) from 2006 includes this sentence: “Since 1970, the percentage of people ages 18 to 34 [in the United States] who live at home with their family increased 48%, from 12.5 million to 18.6 million, the Census Bureau says.”"
   ]
  },
  {
   "cell_type": "markdown",
   "metadata": {},
   "source": [
    "**Question 6.1:** The word “percentage” isn’t used correctly in the context of the rest of the sentence. What word should replace it?"
   ]
  },
  {
   "cell_type": "markdown",
   "metadata": {},
   "source": [
    "<font color='green'> *Percentage should be replaced with the word 'number'.* </font>"
   ]
  },
  {
   "cell_type": "markdown",
   "metadata": {},
   "source": [
    "**Question 6.2:** Can you give a simple explanation for these data? Feel free to include other sources of data to support your explanation, but please keep your answer to 1-3 sentences."
   ]
  },
  {
   "cell_type": "markdown",
   "metadata": {},
   "source": [
    "<font color='green'> *The data shows that starting 1970, the amount of people ages 18-34 that are living at their families home has been steadily increasing through the years up by 48%..* </font>"
   ]
  },
  {
   "cell_type": "code",
   "execution_count": null,
   "metadata": {},
   "outputs": [],
   "source": []
  }
 ],
 "metadata": {
  "celltoolbar": "Raw Cell Format",
  "kernelspec": {
   "display_name": "Python 3",
   "language": "python",
   "name": "python3"
  },
  "language_info": {
   "codemirror_mode": {
    "name": "ipython",
    "version": 3
   },
   "file_extension": ".py",
   "mimetype": "text/x-python",
   "name": "python",
   "nbconvert_exporter": "python",
   "pygments_lexer": "ipython3",
   "version": "3.6.4"
  }
 },
 "nbformat": 4,
 "nbformat_minor": 1
}
